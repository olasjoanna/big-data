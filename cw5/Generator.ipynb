{
 "cells": [
  {
   "cell_type": "code",
   "execution_count": 0,
   "metadata": {
    "application/vnd.databricks.v1+cell": {
     "cellMetadata": {
      "byteLimit": 2048000,
      "rowLimit": 10000
     },
     "inputWidgets": {},
     "nuid": "fb97e2b3-b608-43a1-93f6-8cd9f1ea239c",
     "showTitle": false,
     "tableResultSettingsMap": {},
     "title": ""
    }
   },
   "outputs": [
    {
     "output_type": "stream",
     "name": "stdout",
     "output_type": "stream",
     "text": [
      "Table 1 Count: 1050000\n"
     ]
    }
   ],
   "source": [
    "from pyspark.sql.functions import first, rand, count\n",
    "dates = spark.sql(\"SELECT explode(sequence(DATE'2024-01-01', DATE'2024-03-24', INTERVAL 1 DAY)) as  calendar_date\")\n",
    "c_id = spark.sql(\"SELECT explode(sequence(1,12500, 1)) as  client_id\")\n",
    "types = spark.sql(\"\"\"SELECT concat(\"col_\", colName) as col_name from (SELECT explode(sequence(1,100, 1)) as  colName)\"\"\")\n",
    " \n",
    "dates = dates.repartition(99)\n",
    "c_id = c_id.repartition(11)\n",
    "types = types.repartition(1)\n",
    " \n",
    "df_cartesian = c_id.crossJoin(dates.select(\"calendar_date\")).crossJoin(types.select(\"col_name\")).select(\"client_id\",\"calendar_date\",\"col_name\")\n",
    "df_cartesian2 = df_cartesian.groupBy(\"calendar_date\").agg(count(\"client_id\"))\n",
    " \n",
    "# display(df_cartesian2.limit(1000))\n",
    " \n",
    "df_cartesian = df_cartesian.withColumn(\"val\", (rand()*10).cast(\"int\"))\n",
    "\n",
    "df_grp1 = df_cartesian.groupBy(\"client_id\",\"calendar_date\").pivot(\"col_name\").agg((first(\"val\").alias(\"val\")))\n",
    "\n",
    "\n",
    "types2 = spark.sql(\"SELECT concat('B_col_', colName) as col_name FROM (SELECT explode(sequence(1,50, 1)) as colName)\")\n",
    "\n",
    "df_cartesian2 = c_id.crossJoin(dates).crossJoin(types2).select(\"client_id\", \"calendar_date\", \"col_name\")\n",
    "df_cartesian2 = df_cartesian2.withColumn(\"val\", (rand() * 20).cast(\"int\")) \n",
    "df_grp2 = df_cartesian2.groupBy(\"client_id\", \"calendar_date\").pivot(\"col_name\").agg(first(\"val\"))\n",
    "\n",
    "\n",
    "#display(df_grp)\n",
    "print(f\"Table 1 Count: {df_grp2.count()}\")\n"
   ]
  },
  {
   "cell_type": "code",
   "execution_count": 0,
   "metadata": {
    "application/vnd.databricks.v1+cell": {
     "cellMetadata": {
      "byteLimit": 2048000,
      "rowLimit": 10000
     },
     "inputWidgets": {},
     "nuid": "11efbbac-2990-4f46-ba88-6a6150661933",
     "showTitle": false,
     "tableResultSettingsMap": {},
     "title": ""
    }
   },
   "outputs": [],
   "source": [
    "df_inner = df_grp1.join(df_grp2, [\"client_id\", \"calendar_date\"], \"inner\")\n",
    "#display(df_inner)"
   ]
  },
  {
   "cell_type": "code",
   "execution_count": 0,
   "metadata": {
    "application/vnd.databricks.v1+cell": {
     "cellMetadata": {
      "byteLimit": 2048000,
      "rowLimit": 10000
     },
     "inputWidgets": {},
     "nuid": "1337a41e-b223-4795-9602-bd5ca033af43",
     "showTitle": false,
     "tableResultSettingsMap": {},
     "title": ""
    }
   },
   "outputs": [],
   "source": [
    "df_left = df_grp1.join(df_grp2, [\"client_id\", \"calendar_date\"], \"left\")"
   ]
  },
  {
   "cell_type": "code",
   "execution_count": 0,
   "metadata": {
    "application/vnd.databricks.v1+cell": {
     "cellMetadata": {
      "byteLimit": 2048000,
      "rowLimit": 10000
     },
     "inputWidgets": {},
     "nuid": "1cf770ae-c9e8-4c95-a0c7-084d00862029",
     "showTitle": false,
     "tableResultSettingsMap": {},
     "title": ""
    }
   },
   "outputs": [
    {
     "output_type": "stream",
     "name": "stdout",
     "output_type": "stream",
     "text": [
      "+---------+-------------+\n|client_id|calendar_date|\n+---------+-------------+\n|    10922|   2024-01-07|\n|     8090|   2024-03-16|\n|     6607|   2024-02-09|\n|     4715|   2024-03-21|\n|     4715|   2024-02-03|\n|     8370|   2024-02-20|\n|      999|   2024-02-27|\n|      999|   2024-02-21|\n|    11398|   2024-02-11|\n|     3832|   2024-03-16|\n|     3832|   2024-02-11|\n|     3832|   2024-02-05|\n|     5121|   2024-02-23|\n|     6798|   2024-03-18|\n|     2430|   2024-03-04|\n|    11911|   2024-02-01|\n|    10638|   2024-03-18|\n|     8632|   2024-02-13|\n|    10246|   2024-02-10|\n|    10246|   2024-02-25|\n+---------+-------------+\nonly showing top 20 rows\n\n"
     ]
    }
   ],
   "source": [
    "df_inner_no_dupes = df_inner.select(\"client_id\", \"calendar_date\")\n",
    "df_inner_no_dupes.show()"
   ]
  },
  {
   "cell_type": "code",
   "execution_count": 0,
   "metadata": {
    "application/vnd.databricks.v1+cell": {
     "cellMetadata": {
      "byteLimit": 2048000,
      "rowLimit": 10000
     },
     "inputWidgets": {},
     "nuid": "f40422a2-0630-4341-877b-d8305d4f8908",
     "showTitle": false,
     "tableResultSettingsMap": {},
     "title": ""
    }
   },
   "outputs": [],
   "source": [
    "df_left_no_dupes = df_left.select(\"client_id\", \"calendar_date\")"
   ]
  }
 ],
 "metadata": {
  "application/vnd.databricks.v1+notebook": {
   "computePreferences": null,
   "dashboards": [],
   "environmentMetadata": null,
   "inputWidgetPreferences": null,
   "language": "python",
   "notebookMetadata": {
    "pythonIndentUnit": 4
   },
   "notebookName": "Generator",
   "widgets": {}
  }
 },
 "nbformat": 4,
 "nbformat_minor": 0
}