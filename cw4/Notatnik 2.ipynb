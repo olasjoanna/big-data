{
 "cells": [
  {
   "cell_type": "code",
   "execution_count": 0,
   "metadata": {
    "application/vnd.databricks.v1+cell": {
     "cellMetadata": {
      "byteLimit": 2048000,
      "rowLimit": 10000
     },
     "inputWidgets": {},
     "nuid": "20ca5a93-6999-4e4d-84dc-37567d44e3ec",
     "showTitle": false,
     "tableResultSettingsMap": {},
     "title": ""
    }
   },
   "outputs": [],
   "source": [
    "from pyspark.sql.window import Window\n",
    "from pyspark.sql.functions import sum, avg, count, min, max, row_number\n",
    "\n",
    "data_transactions = [\n",
    "    (1, \"2011-01-01\", 500), (1, \"2011-01-15\", 50), (1, \"2011-01-22\", 250),\n",
    "    (1, \"2011-01-24\", 75), (1, \"2011-01-26\", 125), (1, \"2011-01-28\", 175),\n",
    "    (2, \"2011-01-01\", 500), (2, \"2011-01-15\", 50), (2, \"2011-01-22\", 25),\n",
    "    (2, \"2011-01-23\", 125), (2, \"2011-01-26\", 200), (2, \"2011-01-29\", 250),\n",
    "    (3, \"2011-01-01\", 500), (3, \"2011-01-15\", 50), (3, \"2011-01-22\", 5000),\n",
    "    (3, \"2011-01-25\", 550), (3, \"2011-01-27\", 95), (3, \"2011-01-30\", 2500)\n",
    "]\n",
    "\n",
    "columns_transactions = [\"AccountId\", \"TranDate\", \"TranAmt\"]\n",
    "df_transactions = spark.createDataFrame(data_transactions, columns_transactions)\n",
    "\n",
    "data_logical = [\n",
    "    (1, \"George\", 800), (2, \"Sam\", 950), (3, \"Diane\", 1100),\n",
    "    (4, \"Nicholas\", 1250), (5, \"Samuel\", 1250), (6, \"Patricia\", 1300),\n",
    "    (7, \"Brian\", 1500), (8, \"Thomas\", 1600), (9, \"Fran\", 2450),\n",
    "    (10, \"Debbie\", 2850), (11, \"Mark\", 2975), (12, \"James\", 3000),\n",
    "    (13, \"Cynthia\", 3000), (14, \"Christopher\", 5000)\n",
    "]\n",
    "\n",
    "columns_logical = [\"RowID\", \"FName\", \"Salary\"]\n",
    "df_logical = spark.createDataFrame(data_logical, columns_logical)"
   ]
  },
  {
   "cell_type": "code",
   "execution_count": 0,
   "metadata": {
    "application/vnd.databricks.v1+cell": {
     "cellMetadata": {
      "byteLimit": 2048000,
      "rowLimit": 10000
     },
     "inputWidgets": {},
     "nuid": "5a55a88d-d016-46cb-9ccc-73962b830c5a",
     "showTitle": false,
     "tableResultSettingsMap": {},
     "title": ""
    }
   },
   "outputs": [],
   "source": [
    "window_spec = Window.partitionBy(\"AccountId\").orderBy(\"TranDate\")\n",
    "\n",
    "df_transactions = df_transactions.withColumn(\"RunTotalAmt\", sum(\"TranAmt\").over(window_spec))\n",
    "df_transactions = df_transactions.withColumn(\"RunAvg\", avg(\"TranAmt\").over(window_spec))\n",
    "df_transactions = df_transactions.withColumn(\"RunTranQty\", count(\"*\").over(window_spec))\n",
    "df_transactions = df_transactions.withColumn(\"RunSmallAmt\", min(\"TranAmt\").over(window_spec))\n",
    "df_transactions = df_transactions.withColumn(\"RunLargeAmt\", max(\"TranAmt\").over(window_spec))\n",
    "df_transactions = df_transactions.withColumn(\"RowNumber\", row_number().over(window_spec)) #uzycie ROW_NUMBER "
   ]
  },
  {
   "cell_type": "code",
   "execution_count": 0,
   "metadata": {
    "application/vnd.databricks.v1+cell": {
     "cellMetadata": {},
     "inputWidgets": {},
     "nuid": "14a80600-ce78-4b3e-b216-f47f37d69777",
     "showTitle": false,
     "tableResultSettingsMap": {},
     "title": ""
    }
   },
   "outputs": [],
   "source": [
    "#użycie funkcji okienkowych LEAD, LAG, FIRST_VALUE, LAST_VALUE\n",
    "df_transactions = df_transactions.withColumn(\"LeadTranAmt\", lead(\"TranAmt\").over(window_spec))\n",
    "df_transactions = df_transactions.withColumn(\"LagTranAmt\", lag(\"TranAmt\").over(window_spec))\n",
    "df_transactions = df_transactions.withColumn(\"FirstTranAmt\", first_value(\"TranAmt\").over(window_spec))\n",
    "df_transactions = df_transactions.withColumn(\"LastTranAmt\", last_value(\"TranAmt\").over(window_spec))\n"
   ]
  },
  {
   "cell_type": "code",
   "execution_count": 0,
   "metadata": {
    "application/vnd.databricks.v1+cell": {
     "cellMetadata": {
      "byteLimit": 2048000,
      "rowLimit": 10000
     },
     "inputWidgets": {},
     "nuid": "fc472b7e-8566-49e0-adde-837f4886fa8c",
     "showTitle": false,
     "tableResultSettingsMap": {},
     "title": ""
    }
   },
   "outputs": [],
   "source": [
    "df_transactions = df_transactions.withColumn(\n",
    "    \"SlideAvg\", avg(\"TranAmt\").over(window_spec.rowsBetween(-2, 0))\n",
    ")\n",
    "df_transactions = df_transactions.withColumn(\n",
    "    \"SlideQty\", count(\"*\").over(window_spec.rowsBetween(-2, 0))\n",
    ")\n",
    "df_transactions = df_transactions.withColumn(\n",
    "    \"SlideMin\", min(\"TranAmt\").over(window_spec.rowsBetween(-2, 0))\n",
    ")\n",
    "df_transactions = df_transactions.withColumn(\n",
    "    \"SlideMax\", max(\"TranAmt\").over(window_spec.rowsBetween(-2, 0))\n",
    ")\n",
    "df_transactions = df_transactions.withColumn(\n",
    "    \"SlideTotal\", sum(\"TranAmt\").over(window_spec.rowsBetween(-2, 0))\n",
    ")\n"
   ]
  },
  {
   "cell_type": "code",
   "execution_count": 0,
   "metadata": {
    "application/vnd.databricks.v1+cell": {
     "cellMetadata": {
      "byteLimit": 2048000,
      "rowLimit": 10000
     },
     "inputWidgets": {},
     "nuid": "aa471c2c-61bb-4e43-b046-5d0a1589311d",
     "showTitle": false,
     "tableResultSettingsMap": {},
     "title": ""
    }
   },
   "outputs": [
    {
     "output_type": "stream",
     "name": "stdout",
     "output_type": "stream",
     "text": [
      "+---------+----------+-------+-----------+------------------+----------+-----------+-----------+---------+------------------+--------+--------+--------+----------+\n|AccountId|  TranDate|TranAmt|RunTotalAmt|            RunAvg|RunTranQty|RunSmallAmt|RunLargeAmt|RowNumber|          SlideAvg|SlideQty|SlideMin|SlideMax|SlideTotal|\n+---------+----------+-------+-----------+------------------+----------+-----------+-----------+---------+------------------+--------+--------+--------+----------+\n|        1|2011-01-01|    500|        500|             500.0|         1|        500|        500|        1|             500.0|       1|     500|     500|       500|\n|        1|2011-01-15|     50|        550|             275.0|         2|         50|        500|        2|             275.0|       2|      50|     500|       550|\n|        1|2011-01-22|    250|        800| 266.6666666666667|         3|         50|        500|        3| 266.6666666666667|       3|      50|     500|       800|\n|        1|2011-01-24|     75|        875|            218.75|         4|         50|        500|        4|             125.0|       3|      50|     250|       375|\n|        1|2011-01-26|    125|       1000|             200.0|         5|         50|        500|        5|             150.0|       3|      75|     250|       450|\n|        1|2011-01-28|    175|       1175|195.83333333333334|         6|         50|        500|        6|             125.0|       3|      75|     175|       375|\n|        2|2011-01-01|    500|        500|             500.0|         1|        500|        500|        1|             500.0|       1|     500|     500|       500|\n|        2|2011-01-15|     50|        550|             275.0|         2|         50|        500|        2|             275.0|       2|      50|     500|       550|\n|        2|2011-01-22|     25|        575|191.66666666666666|         3|         25|        500|        3|191.66666666666666|       3|      25|     500|       575|\n|        2|2011-01-23|    125|        700|             175.0|         4|         25|        500|        4| 66.66666666666667|       3|      25|     125|       200|\n|        2|2011-01-26|    200|        900|             180.0|         5|         25|        500|        5|116.66666666666667|       3|      25|     200|       350|\n|        2|2011-01-29|    250|       1150|191.66666666666666|         6|         25|        500|        6|191.66666666666666|       3|     125|     250|       575|\n|        3|2011-01-01|    500|        500|             500.0|         1|        500|        500|        1|             500.0|       1|     500|     500|       500|\n|        3|2011-01-15|     50|        550|             275.0|         2|         50|        500|        2|             275.0|       2|      50|     500|       550|\n|        3|2011-01-22|   5000|       5550|            1850.0|         3|         50|       5000|        3|            1850.0|       3|      50|    5000|      5550|\n|        3|2011-01-25|    550|       6100|            1525.0|         4|         50|       5000|        4|1866.6666666666667|       3|      50|    5000|      5600|\n|        3|2011-01-27|     95|       6195|            1239.0|         5|         50|       5000|        5|1881.6666666666667|       3|      95|    5000|      5645|\n|        3|2011-01-30|   2500|       8695|1449.1666666666667|         6|         50|       5000|        6|1048.3333333333333|       3|      95|    2500|      3145|\n+---------+----------+-------+-----------+------------------+----------+-----------+-----------+---------+------------------+--------+--------+--------+----------+\n\n"
     ]
    }
   ],
   "source": [
    "df_transactions.show()"
   ]
  },
  {
   "cell_type": "code",
   "execution_count": 0,
   "metadata": {
    "application/vnd.databricks.v1+cell": {
     "cellMetadata": {
      "byteLimit": 2048000,
      "rowLimit": 10000
     },
     "inputWidgets": {},
     "nuid": "a18bf7f9-ac4a-456c-95dc-edfd9051a0c5",
     "showTitle": false,
     "tableResultSettingsMap": {},
     "title": ""
    }
   },
   "outputs": [],
   "source": [
    "df_logical = df_logical.withColumn(\n",
    "    \"SumByRows\", sum(\"Salary\").over(Window.orderBy(\"Salary\").rowsBetween(Window.unboundedPreceding, 0))\n",
    ")\n",
    "df_logical = df_logical.withColumn(\n",
    "    \"SumByRange\", sum(\"Salary\").over(Window.orderBy(\"Salary\").rangeBetween(Window.unboundedPreceding, 0))\n",
    ")\n"
   ]
  },
  {
   "cell_type": "code",
   "execution_count": 0,
   "metadata": {
    "application/vnd.databricks.v1+cell": {
     "cellMetadata": {
      "byteLimit": 2048000,
      "rowLimit": 10000
     },
     "inputWidgets": {},
     "nuid": "9820b5dc-11f8-4d5d-8fe9-c09f5c652071",
     "showTitle": false,
     "tableResultSettingsMap": {},
     "title": ""
    }
   },
   "outputs": [
    {
     "output_type": "stream",
     "name": "stdout",
     "output_type": "stream",
     "text": [
      "+-----+-----------+------+---------+----------+\n|RowID|      FName|Salary|SumByRows|SumByRange|\n+-----+-----------+------+---------+----------+\n|    1|     George|   800|      800|       800|\n|    2|        Sam|   950|     1750|      1750|\n|    3|      Diane|  1100|     2850|      2850|\n|    4|   Nicholas|  1250|     4100|      5350|\n|    5|     Samuel|  1250|     5350|      5350|\n|    6|   Patricia|  1300|     6650|      6650|\n|    7|      Brian|  1500|     8150|      8150|\n|    8|     Thomas|  1600|     9750|      9750|\n|    9|       Fran|  2450|    12200|     12200|\n|   10|     Debbie|  2850|    15050|     15050|\n|   11|       Mark|  2975|    18025|     18025|\n|   12|      James|  3000|    21025|     24025|\n|   13|    Cynthia|  3000|    24025|     24025|\n|   14|Christopher|  5000|    29025|     29025|\n+-----+-----------+------+---------+----------+\n\n"
     ]
    }
   ],
   "source": [
    "df_logical.show()"
   ]
  }
 ],
 "metadata": {
  "application/vnd.databricks.v1+notebook": {
   "computePreferences": null,
   "dashboards": [],
   "environmentMetadata": {
    "base_environment": "",
    "environment_version": "1"
   },
   "inputWidgetPreferences": null,
   "language": "python",
   "notebookMetadata": {
    "pythonIndentUnit": 4
   },
   "notebookName": "Notatnik 2",
   "widgets": {}
  }
 },
 "nbformat": 4,
 "nbformat_minor": 0
}