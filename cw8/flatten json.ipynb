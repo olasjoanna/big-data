{
 "cells": [
  {
   "cell_type": "code",
   "execution_count": 0,
   "metadata": {
    "application/vnd.databricks.v1+cell": {
     "cellMetadata": {
      "byteLimit": 2048000,
      "rowLimit": 10000
     },
     "inputWidgets": {},
     "nuid": "17ef79a4-2470-4ddb-86ee-50af626fff8d",
     "showTitle": false,
     "tableResultSettingsMap": {},
     "title": ""
    }
   },
   "outputs": [
    {
     "output_type": "stream",
     "name": "stdout",
     "output_type": "stream",
     "text": [
      "+-------------------------------------------------------------------------------------------------------------------------------------------------------------------------------------------------------------------------------------------------------------------------------------------------------------------------------------------------------------------------------------------------------------------------------------------------------------------------------------------------------------------------------------------------------------------------------------------------------------------------------------------------------------------------------------------------------------------------------------------------------------------------------------------------------------------------------------------------------------------------------------------------------------------------------------------------------------------------------------------------------------------------------------------------------------------------------------------------------------------------------------------------------------------------------------------------------------------------------------------------------------------------------------------------------------------------------------------------------------------------------------------------------------------------------------------------------------------------------------------------------------------------------------------------------------------------------------------------------------------------------------------------------------------------------------------------------------------------------------------------------------------------------------------------------------------------------------------------------------------------------------------------------------------------------------------------------------------------------------------------------------------------------------------------------------------------------------------------------------------------------------------------------------------------------------------------------------------------------------------------------------------------------------------------------------------------------------------------------------------------------------------------------------------------------------------------------------------------------------------------------------------------------------------------------------------------------------------------------------------------------------------------------------------------------------------------------------------------------------------------------------------------------------------------------------------------------------------------------------------------------------------------------------------------------------------------------------------------------------------------------------------------------------------------------------------------------------------------------------------------------------------------------------------------------------------------------------------------------------------------------------------------------------------------------------------------------------------------------------------------------------------------------------------------------------------------------------------------------------------------------------------------------------------------------------------------------------------------------------------------------------------------------------------------------------------------------------------------------------------------------------------+----------------------------------------------------------------------------+--------------------------------------------------------------------+----------------+----------+\n|features                                                                                                                                                                                                                                                                                                                                                                                                                                                                                                                                                                                                                                                                                                                                                                                                                                                                                                                                                                                                                                                                                                                                                                                                                                                                                                                                                                                                                                                                                                                                                                                                                                                                                                                                                                                                                                                                                                                                                                                                                                                                                                                                                                                                                                                                                                                                                                                                                                                                                                                                                                                                                                                                                                                                                                                                                                                                                                                                                                                                                                                                                                                                                                                                                                                                                                                                                                                                                                                                                                                                                                                                                                                                                                                                                           |jobDetails                                                                  |maiaExtractProcessDetails                                           |numberOfFeatures|type      |\n+-------------------------------------------------------------------------------------------------------------------------------------------------------------------------------------------------------------------------------------------------------------------------------------------------------------------------------------------------------------------------------------------------------------------------------------------------------------------------------------------------------------------------------------------------------------------------------------------------------------------------------------------------------------------------------------------------------------------------------------------------------------------------------------------------------------------------------------------------------------------------------------------------------------------------------------------------------------------------------------------------------------------------------------------------------------------------------------------------------------------------------------------------------------------------------------------------------------------------------------------------------------------------------------------------------------------------------------------------------------------------------------------------------------------------------------------------------------------------------------------------------------------------------------------------------------------------------------------------------------------------------------------------------------------------------------------------------------------------------------------------------------------------------------------------------------------------------------------------------------------------------------------------------------------------------------------------------------------------------------------------------------------------------------------------------------------------------------------------------------------------------------------------------------------------------------------------------------------------------------------------------------------------------------------------------------------------------------------------------------------------------------------------------------------------------------------------------------------------------------------------------------------------------------------------------------------------------------------------------------------------------------------------------------------------------------------------------------------------------------------------------------------------------------------------------------------------------------------------------------------------------------------------------------------------------------------------------------------------------------------------------------------------------------------------------------------------------------------------------------------------------------------------------------------------------------------------------------------------------------------------------------------------------------------------------------------------------------------------------------------------------------------------------------------------------------------------------------------------------------------------------------------------------------------------------------------------------------------------------------------------------------------------------------------------------------------------------------------------------------------------------------------+----------------------------------------------------------------------------+--------------------------------------------------------------------+----------------+----------+\n|[{{[[[445751.0,244970.0,138.984], [446492.041,244970.0,101.861], [446492.041,245088.372,102.604], [445751.0,245088.372,140.312], [445751.0,244970.0,138.984]]], Polygon}, {null, null, null, [], null, null, {[], a6a7e7ff-232fg-e222-e040-adg354fg345, Named Thoroughfare, null, {Unknown, Confident, 2005-09-20, 2005-09-20, 0, Refinement}, 1}, [], null, update, [{2003-03-13, New}, {2005-09-20, Modified}, {2018-07-27, Modified}, {2022-08-03, Attributes}], null, null, null, null, null, Named Extent+Group+None, a6a7e7ff-71d3-e455-0a2c5c6a, null, null, null, {[], 2342432jj-71dc-e222-e040-a234j324k5c6a, [as344fr-8385-bbae-e040-a40a262c31b2, 9eeb7c1a-d123-41ca-b531-ssdf44556], [], null, {Collection, Confident, 2022-08-03, 2019-07-05, 34567535, Real}, 3, []}, null, null, null, null, 3453654, null, {[], a6a7e7ff-71d7-e222-e040-a40a262c5c6a, Defined, null, {Unknown, Confident, 2005-09-20, 2005-09-20, 0, Refinement}, 1}, null, null, null, [{[], [{Initial Load, Product History, 2005-09-20, Name, null}], a6a7e7ff-71d8-e222-e040-bsfds3243, Lane, English, null, {Unknown, Confident, 2005-09-20, 2005-09-20, 0, Refinement}, 1}], null, null, null, null, null, {[], [], a6a7e7ff-71d5-e222-e040-qwe234234rw, Not Applicable, null, Stylised, {Photogrammetry, Confident, 2022-08-03, 2019-07-05, 34567535, Real}, 3}, null, null, null, null, null, null, null, [], [], [{[], 689a801f-9b91-4d72-b19b-851b6c88144f, null, [{Lower Left, Normal Text, 2.75 m, 1, 357.3, {[446819.26, 245084.52], Point}, MILL LANE (TRACK)}], {Collection, Confident, 2018-07-26, 2018-07-26, 42334591, Real}, 1}, {[], a6ae45e5-3439-f291-e040-a40a262c1e53, null, [{Centre, Normal Text, 2.75 m, 1, 10.2, {[445975.95, 245013.95], Point}, MILL LANE}], {Unknown, Confident, 2005-03-07, 2005-03-07, 0, Refinement}, 1}], null, null, 3544354345349395541, null, 2022-08-06T03:29:46Z, null, null, null, null, null}, Feature}, {{[[446492.041, 245087.712, 102.616], [446498.463, 245087.71, 103.178], [446503.199, 245088.442, 103.205], [446510.93, 245089.636, 102.862]], LineString}, {null, null, null, [], null, null, {[], 3cf5b258-fe22-4ebc-a779-75932395e98e, Single Carriageway, null, {Collection, Confident, 2018-07-26, 2018-07-26, 42334591, Real}, 1}, [{[], ad7234f3fa-1fbc-4880-b55f-b0e04ab14430, Restricted Access, Active, [], null, {Collection, Confident, 2018-07-26, 2018-07-26, 42334591, Real}, 1}], null, delete, [{2018-07-28, New}], null, null, null, null, null, Network+Line+None, 17e3f1c4-1802-4952-a826-ba148d063716, null, {[], ae22d84d-dab4-409d-9637-sdfs34234, 0, 0, null, {Collection, Confident, 2018-07-26, 2018-07-26, 42334591, Real}, 1}, null, null, null, null, null, null, 34567535, null, {[], 709b0382-2b30-4ad3-9f6f-ere334te332ret, Defined, null, {Collection, Confident, 2018-07-26, 2018-07-26, 42334591, Real}, 1}, {[], cd23423-ffea-4217-89b4-344frfre334, Level, 2018-07-28, null, {Interpolation, Confident, 2018-07-28, 2018-07-28, 423424391, Real}, 1}, {[], 2342342-342435-45dc-83d3-34612b1d74a8, 3973b6cf-a2e4-432c-8f61-13e2da62bcd1, null, null, null, null, a6a39ce2-2abd-7486-e040-de3452c6e95, null, null, null, {Collection, Confident, 2018-07-26, 2018-07-26, 42334591, Real}, 1}, null, [], null, null, null, null, null, null, {[], [], 0021b346-8a3c-46ca-9d2e-75e0c96a46c9, Unknown, null, Exact, {Photogrammetry, Confident, 2018-07-26, 2018-07-26, 42334591, Real}, 1}, null, null, null, {[], 3f009479-0b1d-4c95-98dc-61064233d85b, false, false, null, {Collection, Confident, 2018-07-26, 2018-07-26, 42334591, Real}, 1}, null, null, [], [], [], null, null, osgb5000005233652043, null, 2022-08-06T03:29:46Z, null, null, null, null, null}, Feature}]|{2022-08-06T03:29:46Z, 345345, XSDR_344985_WGZX_2022_A008_V, Stereo, 345353}|{Incremental Update, 2022-08-06T03:30:35Z, 1.10, 110572, null, null}|2               |Collection|\n+-------------------------------------------------------------------------------------------------------------------------------------------------------------------------------------------------------------------------------------------------------------------------------------------------------------------------------------------------------------------------------------------------------------------------------------------------------------------------------------------------------------------------------------------------------------------------------------------------------------------------------------------------------------------------------------------------------------------------------------------------------------------------------------------------------------------------------------------------------------------------------------------------------------------------------------------------------------------------------------------------------------------------------------------------------------------------------------------------------------------------------------------------------------------------------------------------------------------------------------------------------------------------------------------------------------------------------------------------------------------------------------------------------------------------------------------------------------------------------------------------------------------------------------------------------------------------------------------------------------------------------------------------------------------------------------------------------------------------------------------------------------------------------------------------------------------------------------------------------------------------------------------------------------------------------------------------------------------------------------------------------------------------------------------------------------------------------------------------------------------------------------------------------------------------------------------------------------------------------------------------------------------------------------------------------------------------------------------------------------------------------------------------------------------------------------------------------------------------------------------------------------------------------------------------------------------------------------------------------------------------------------------------------------------------------------------------------------------------------------------------------------------------------------------------------------------------------------------------------------------------------------------------------------------------------------------------------------------------------------------------------------------------------------------------------------------------------------------------------------------------------------------------------------------------------------------------------------------------------------------------------------------------------------------------------------------------------------------------------------------------------------------------------------------------------------------------------------------------------------------------------------------------------------------------------------------------------------------------------------------------------------------------------------------------------------------------------------------------------------------------------------------+----------------------------------------------------------------------------+--------------------------------------------------------------------+----------------+----------+\n\n"
     ]
    }
   ],
   "source": [
    "df = spark.read.option(\"multiline\", \"true\").json(\"dbfs:/FileStore/tables/brzydki.json\")\n",
    "df.show(truncate=False)\n"
   ]
  },
  {
   "cell_type": "code",
   "execution_count": 0,
   "metadata": {
    "application/vnd.databricks.v1+cell": {
     "cellMetadata": {
      "byteLimit": 2048000,
      "rowLimit": 10000
     },
     "inputWidgets": {},
     "nuid": "a7bb3ae6-735c-49c6-9827-e8506419f5b7",
     "showTitle": false,
     "tableResultSettingsMap": {},
     "title": ""
    }
   },
   "outputs": [
    {
     "output_type": "stream",
     "name": "stdout",
     "output_type": "stream",
     "text": [
      "root\n |-- feature: struct (nullable = true)\n |    |-- geometry: struct (nullable = true)\n |    |    |-- coordinates: array (nullable = true)\n |    |    |    |-- element: array (containsNull = true)\n |    |    |    |    |-- element: string (containsNull = true)\n |    |    |-- type: string (nullable = true)\n |    |-- properties: struct (nullable = true)\n |    |    |-- accessTopologyComponent: string (nullable = true)\n |    |    |-- administrativeExceptionComponent: string (nullable = true)\n |    |    |-- administrativeUnitComponent: string (nullable = true)\n |    |    |-- alternativeToids: array (nullable = true)\n |    |    |    |-- element: string (containsNull = true)\n |    |    |-- anomalyComponent: string (nullable = true)\n |    |    |-- areaHeightComponent: string (nullable = true)\n |    |    |-- baseFormComponent: struct (nullable = true)\n |    |    |    |-- applicableContracts: array (nullable = true)\n |    |    |    |    |-- element: string (containsNull = true)\n |    |    |    |-- componentId: string (nullable = true)\n |    |    |    |-- form: string (nullable = true)\n |    |    |    |-- source: string (nullable = true)\n |    |    |    |-- versionCreationMetadata: struct (nullable = true)\n |    |    |    |    |-- captureMethod: string (nullable = true)\n |    |    |    |    |-- confidenceLevel: string (nullable = true)\n |    |    |    |    |-- editDate: string (nullable = true)\n |    |    |    |    |-- evidenceDate: string (nullable = true)\n |    |    |    |    |-- jobReference: long (nullable = true)\n |    |    |    |    |-- reasonForChange: string (nullable = true)\n |    |    |    |-- versionNumber: long (nullable = true)\n |    |    |-- baseFunctionComponents: array (nullable = true)\n |    |    |    |-- element: struct (containsNull = true)\n |    |    |    |    |-- applicableContracts: array (nullable = true)\n |    |    |    |    |    |-- element: string (containsNull = true)\n |    |    |    |    |-- componentId: string (nullable = true)\n |    |    |    |    |-- function: string (nullable = true)\n |    |    |    |    |-- operationalStatus: string (nullable = true)\n |    |    |    |    |-- qualifiers: array (nullable = true)\n |    |    |    |    |    |-- element: string (containsNull = true)\n |    |    |    |    |-- source: string (nullable = true)\n |    |    |    |    |-- versionCreationMetadata: struct (nullable = true)\n |    |    |    |    |    |-- captureMethod: string (nullable = true)\n |    |    |    |    |    |-- confidenceLevel: string (nullable = true)\n |    |    |    |    |    |-- editDate: string (nullable = true)\n |    |    |    |    |    |-- evidenceDate: string (nullable = true)\n |    |    |    |    |    |-- jobReference: long (nullable = true)\n |    |    |    |    |    |-- reasonForChange: string (nullable = true)\n |    |    |    |    |-- versionNumber: long (nullable = true)\n |    |    |-- boundaryLinkComponent: string (nullable = true)\n |    |    |-- changeEventType: string (nullable = true)\n |    |    |-- changeHistory: array (nullable = true)\n |    |    |    |-- element: struct (containsNull = true)\n |    |    |    |    |-- changeDate: string (nullable = true)\n |    |    |    |    |-- reasonForChange: string (nullable = true)\n |    |    |-- controlComponent: string (nullable = true)\n |    |    |-- crossingComponent: string (nullable = true)\n |    |    |-- dmuComponent: string (nullable = true)\n |    |    |-- evidenceComponent: string (nullable = true)\n |    |    |-- externalSourceComponent: string (nullable = true)\n |    |    |-- featureGroup: string (nullable = true)\n |    |    |-- featureId: string (nullable = true)\n |    |    |-- geometricZoneComponent: string (nullable = true)\n |    |    |-- gradeSeparationComponent: struct (nullable = true)\n |    |    |    |-- applicableContracts: array (nullable = true)\n |    |    |    |    |-- element: string (containsNull = true)\n |    |    |    |-- componentId: string (nullable = true)\n |    |    |    |-- gradeAtEnd: long (nullable = true)\n |    |    |    |-- gradeAtStart: long (nullable = true)\n |    |    |    |-- source: string (nullable = true)\n |    |    |    |-- versionCreationMetadata: struct (nullable = true)\n |    |    |    |    |-- captureMethod: string (nullable = true)\n |    |    |    |    |-- confidenceLevel: string (nullable = true)\n |    |    |    |    |-- editDate: string (nullable = true)\n |    |    |    |    |-- evidenceDate: string (nullable = true)\n |    |    |    |    |-- jobReference: long (nullable = true)\n |    |    |    |    |-- reasonForChange: string (nullable = true)\n |    |    |    |-- versionNumber: long (nullable = true)\n |    |    |-- hasContentDefinedByComponent: string (nullable = true)\n |    |    |-- hasDetailDefinedByComponent: struct (nullable = true)\n |    |    |    |-- applicableContracts: array (nullable = true)\n |    |    |    |    |-- element: string (containsNull = true)\n |    |    |    |-- componentId: string (nullable = true)\n |    |    |    |-- networkLinkReferences: array (nullable = true)\n |    |    |    |    |-- element: string (containsNull = true)\n |    |    |    |-- networkNodeReferences: array (nullable = true)\n |    |    |    |    |-- element: string (containsNull = true)\n |    |    |    |-- source: string (nullable = true)\n |    |    |    |-- versionCreationMetadata: struct (nullable = true)\n |    |    |    |    |-- captureMethod: string (nullable = true)\n |    |    |    |    |-- confidenceLevel: string (nullable = true)\n |    |    |    |    |-- editDate: string (nullable = true)\n |    |    |    |    |-- evidenceDate: string (nullable = true)\n |    |    |    |    |-- jobReference: long (nullable = true)\n |    |    |    |    |-- reasonForChange: string (nullable = true)\n |    |    |    |-- versionNumber: long (nullable = true)\n |    |    |    |-- waterLinkReferences: array (nullable = true)\n |    |    |    |    |-- element: string (containsNull = true)\n |    |    |-- hasParentComponent: string (nullable = true)\n |    |    |-- heightDatumComponent: string (nullable = true)\n |    |    |-- indicatesBeginningOfComponent: string (nullable = true)\n |    |    |-- interactsComponent: string (nullable = true)\n |    |    |-- jobReference: long (nullable = true)\n |    |    |-- legalDocumentAttribution: string (nullable = true)\n |    |    |-- lifecycleStatusComponent: struct (nullable = true)\n |    |    |    |-- applicableContracts: array (nullable = true)\n |    |    |    |    |-- element: string (containsNull = true)\n |    |    |    |-- componentId: string (nullable = true)\n |    |    |    |-- lifecycleStatus: string (nullable = true)\n |    |    |    |-- source: string (nullable = true)\n |    |    |    |-- versionCreationMetadata: struct (nullable = true)\n |    |    |    |    |-- captureMethod: string (nullable = true)\n |    |    |    |    |-- confidenceLevel: string (nullable = true)\n |    |    |    |    |-- editDate: string (nullable = true)\n |    |    |    |    |-- evidenceDate: string (nullable = true)\n |    |    |    |    |-- jobReference: long (nullable = true)\n |    |    |    |    |-- reasonForChange: string (nullable = true)\n |    |    |    |-- versionNumber: long (nullable = true)\n |    |    |-- linearHeightComponent: struct (nullable = true)\n |    |    |    |-- applicableContracts: array (nullable = true)\n |    |    |    |    |-- element: string (containsNull = true)\n |    |    |    |-- componentId: string (nullable = true)\n |    |    |    |-- heightLocationType: string (nullable = true)\n |    |    |    |-- lastInterpolationDate: string (nullable = true)\n |    |    |    |-- source: string (nullable = true)\n |    |    |    |-- versionCreationMetadata: struct (nullable = true)\n |    |    |    |    |-- captureMethod: string (nullable = true)\n |    |    |    |    |-- confidenceLevel: string (nullable = true)\n |    |    |    |    |-- editDate: string (nullable = true)\n |    |    |    |    |-- evidenceDate: string (nullable = true)\n |    |    |    |    |-- jobReference: long (nullable = true)\n |    |    |    |    |-- reasonForChange: string (nullable = true)\n |    |    |    |-- versionNumber: long (nullable = true)\n |    |    |-- linkTopologyComponent: struct (nullable = true)\n |    |    |    |-- applicableContracts: array (nullable = true)\n |    |    |    |    |-- element: string (containsNull = true)\n |    |    |    |-- componentId: string (nullable = true)\n |    |    |    |-- endNetworkNodeReference: string (nullable = true)\n |    |    |    |-- endOverheadSupportAreaReference: string (nullable = true)\n |    |    |    |-- endOverheadSupportPointReference: string (nullable = true)\n |    |    |    |-- endWaterNodeReference: string (nullable = true)\n |    |    |    |-- source: string (nullable = true)\n |    |    |    |-- startNetworkNodeReference: string (nullable = true)\n |    |    |    |-- startOverheadSupportAreaReference: string (nullable = true)\n |    |    |    |-- startOverheadSupportPointReference: string (nullable = true)\n |    |    |    |-- startWaterNodeReference: string (nullable = true)\n |    |    |    |-- versionCreationMetadata: struct (nullable = true)\n |    |    |    |    |-- captureMethod: string (nullable = true)\n |    |    |    |    |-- confidenceLevel: string (nullable = true)\n |    |    |    |    |-- editDate: string (nullable = true)\n |    |    |    |    |-- evidenceDate: string (nullable = true)\n |    |    |    |    |-- jobReference: long (nullable = true)\n |    |    |    |    |-- reasonForChange: string (nullable = true)\n |    |    |    |-- versionNumber: long (nullable = true)\n |    |    |-- maintainersNoteComponent: string (nullable = true)\n |    |    |-- nameComponents: array (nullable = true)\n |    |    |    |-- element: struct (containsNull = true)\n |    |    |    |    |-- applicableContracts: array (nullable = true)\n |    |    |    |    |    |-- element: string (containsNull = true)\n |    |    |    |    |-- authorities: array (nullable = true)\n |    |    |    |    |    |-- element: struct (containsNull = true)\n |    |    |    |    |    |    |-- authorisingRole: string (nullable = true)\n |    |    |    |    |    |    |-- authorityType: string (nullable = true)\n |    |    |    |    |    |    |-- confirmationDate: string (nullable = true)\n |    |    |    |    |    |    |-- confirmationType: string (nullable = true)\n |    |    |    |    |    |    |-- note: string (nullable = true)\n |    |    |    |    |-- componentId: string (nullable = true)\n |    |    |    |    |-- distinctiveNameOrNumber: string (nullable = true)\n |    |    |    |    |-- language: string (nullable = true)\n |    |    |    |    |-- source: string (nullable = true)\n |    |    |    |    |-- versionCreationMetadata: struct (nullable = true)\n |    |    |    |    |    |-- captureMethod: string (nullable = true)\n |    |    |    |    |    |-- confidenceLevel: string (nullable = true)\n |    |    |    |    |    |-- editDate: string (nullable = true)\n |    |    |    |    |    |-- evidenceDate: string (nullable = true)\n |    |    |    |    |    |-- jobReference: long (nullable = true)\n |    |    |    |    |    |-- reasonForChange: string (nullable = true)\n |    |    |    |    |-- versionNumber: long (nullable = true)\n |    |    |-- networkReferenceComponent: string (nullable = true)\n |    |    |-- oneWayRouteInformationComponent: string (nullable = true)\n |    |    |-- overheadNodeComponent: string (nullable = true)\n |    |    |-- overheadPointsComponent: string (nullable = true)\n |    |    |-- physicalRestrictionComponent: string (nullable = true)\n |    |    |-- planarAreaLocationComponent: struct (nullable = true)\n |    |    |    |-- applicableContracts: array (nullable = true)\n |    |    |    |    |-- element: string (containsNull = true)\n |    |    |    |-- authorities: array (nullable = true)\n |    |    |    |    |-- element: string (containsNull = true)\n |    |    |    |-- componentId: string (nullable = true)\n |    |    |    |-- locationType: string (nullable = true)\n |    |    |    |-- source: string (nullable = true)\n |    |    |    |-- vagueness: string (nullable = true)\n |    |    |    |-- versionCreationMetadata: struct (nullable = true)\n |    |    |    |    |-- captureMethod: string (nullable = true)\n |    |    |    |    |-- confidenceLevel: string (nullable = true)\n |    |    |    |    |-- editDate: string (nullable = true)\n |    |    |    |    |-- evidenceDate: string (nullable = true)\n |    |    |    |    |-- jobReference: long (nullable = true)\n |    |    |    |    |-- reasonForChange: string (nullable = true)\n |    |    |    |-- versionNumber: long (nullable = true)\n |    |    |-- planarLinearLocationComponent: struct (nullable = true)\n |    |    |    |-- applicableContracts: array (nullable = true)\n |    |    |    |    |-- element: string (containsNull = true)\n |    |    |    |-- authorities: array (nullable = true)\n |    |    |    |    |-- element: string (containsNull = true)\n |    |    |    |-- componentId: string (nullable = true)\n |    |    |    |-- locationType: string (nullable = true)\n |    |    |    |-- source: string (nullable = true)\n |    |    |    |-- vagueness: string (nullable = true)\n |    |    |    |-- versionCreationMetadata: struct (nullable = true)\n |    |    |    |    |-- captureMethod: string (nullable = true)\n |    |    |    |    |-- confidenceLevel: string (nullable = true)\n |    |    |    |    |-- editDate: string (nullable = true)\n |    |    |    |    |-- evidenceDate: string (nullable = true)\n |    |    |    |    |-- jobReference: long (nullable = true)\n |    |    |    |    |-- reasonForChange: string (nullable = true)\n |    |    |    |-- versionNumber: long (nullable = true)\n |    |    |-- planarPointLocationComponent: string (nullable = true)\n |    |    |-- pointHeightComponent: string (nullable = true)\n |    |    |-- primaryStructureComponent: string (nullable = true)\n |    |    |-- roadLinkComponent: struct (nullable = true)\n |    |    |    |-- applicableContracts: array (nullable = true)\n |    |    |    |    |-- element: string (containsNull = true)\n |    |    |    |-- componentId: string (nullable = true)\n |    |    |    |-- isPrimary: boolean (nullable = true)\n |    |    |    |-- isTrunk: boolean (nullable = true)\n |    |    |    |-- source: string (nullable = true)\n |    |    |    |-- versionCreationMetadata: struct (nullable = true)\n |    |    |    |    |-- captureMethod: string (nullable = true)\n |    |    |    |    |-- confidenceLevel: string (nullable = true)\n |    |    |    |    |-- editDate: string (nullable = true)\n |    |    |    |    |-- evidenceDate: string (nullable = true)\n |    |    |    |    |-- jobReference: long (nullable = true)\n |    |    |    |    |-- reasonForChange: string (nullable = true)\n |    |    |    |-- versionNumber: long (nullable = true)\n |    |    |-- routeLocationComponent: string (nullable = true)\n |    |    |-- siteNodeComponent: string (nullable = true)\n |    |    |-- stakeholderComponents: array (nullable = true)\n |    |    |    |-- element: string (containsNull = true)\n |    |    |-- symbolCartographyComponents: array (nullable = true)\n |    |    |    |-- element: string (containsNull = true)\n |    |    |-- textCartographyComponents: array (nullable = true)\n |    |    |    |-- element: struct (containsNull = true)\n |    |    |    |    |-- applicableContracts: array (nullable = true)\n |    |    |    |    |    |-- element: string (containsNull = true)\n |    |    |    |    |-- componentId: string (nullable = true)\n |    |    |    |    |-- source: string (nullable = true)\n |    |    |    |    |-- textElements: array (nullable = true)\n |    |    |    |    |    |-- element: struct (containsNull = true)\n |    |    |    |    |    |    |-- anchorPoint: string (nullable = true)\n |    |    |    |    |    |    |-- font: string (nullable = true)\n |    |    |    |    |    |    |-- fontHeight: string (nullable = true)\n |    |    |    |    |    |    |-- groupOrder: long (nullable = true)\n |    |    |    |    |    |    |-- orientation: double (nullable = true)\n |    |    |    |    |    |    |-- position: struct (nullable = true)\n |    |    |    |    |    |    |    |-- coordinates: array (nullable = true)\n |    |    |    |    |    |    |    |    |-- element: double (containsNull = true)\n |    |    |    |    |    |    |    |-- type: string (nullable = true)\n |    |    |    |    |    |    |-- textString: string (nullable = true)\n |    |    |    |    |-- versionCreationMetadata: struct (nullable = true)\n |    |    |    |    |    |-- captureMethod: string (nullable = true)\n |    |    |    |    |    |-- confidenceLevel: string (nullable = true)\n |    |    |    |    |    |-- editDate: string (nullable = true)\n |    |    |    |    |    |-- evidenceDate: string (nullable = true)\n |    |    |    |    |    |-- jobReference: long (nullable = true)\n |    |    |    |    |    |-- reasonForChange: string (nullable = true)\n |    |    |    |    |-- versionNumber: long (nullable = true)\n |    |    |-- thirdPartyInformationComponent: string (nullable = true)\n |    |    |-- tideInformationComponent: string (nullable = true)\n |    |    |-- toid: string (nullable = true)\n |    |    |-- topo93SeedGeometryComponent: string (nullable = true)\n |    |    |-- validFromTimestamp: string (nullable = true)\n |    |    |-- waterFlowComponent: string (nullable = true)\n |    |    |-- waterNavigabilityComponent: string (nullable = true)\n |    |    |-- waterPermanenceComponent: string (nullable = true)\n |    |    |-- waterProvenanceComponent: string (nullable = true)\n |    |    |-- zoneLocationComponent: string (nullable = true)\n |    |-- type: string (nullable = true)\n\n"
     ]
    }
   ],
   "source": [
    "from pyspark.sql.functions import explode\n",
    "\n",
    "df_flat = df.select(explode(\"features\").alias(\"feature\"))\n",
    "df_flat.printSchema()\n"
   ]
  },
  {
   "cell_type": "code",
   "execution_count": 0,
   "metadata": {
    "application/vnd.databricks.v1+cell": {
     "cellMetadata": {
      "byteLimit": 2048000,
      "rowLimit": 10000
     },
     "inputWidgets": {},
     "nuid": "da221b67-fef8-47ee-a787-67231922b852",
     "showTitle": false,
     "tableResultSettingsMap": {},
     "title": ""
    }
   },
   "outputs": [
    {
     "output_type": "display_data",
     "data": {
      "text/html": [
       "<style scoped>\n",
       "  .table-result-container {\n",
       "    max-height: 300px;\n",
       "    overflow: auto;\n",
       "  }\n",
       "  table, th, td {\n",
       "    border: 1px solid black;\n",
       "    border-collapse: collapse;\n",
       "  }\n",
       "  th, td {\n",
       "    padding: 5px;\n",
       "  }\n",
       "  th {\n",
       "    text-align: left;\n",
       "  }\n",
       "</style><div class='table-result-container'><table class='table-result'><thead style='background-color: white'><tr><th>feature_type</th><th>geometry_type</th><th>geometry_coordinates</th><th>feature_id</th><th>toid</th><th>change_event_type</th><th>feature_group</th><th>lifecycle_status</th><th>job_reference</th><th>form_type</th></tr></thead><tbody><tr><td>Feature</td><td>Polygon</td><td>List(List([445751.0,244970.0,138.984], [446492.041,244970.0,101.861], [446492.041,245088.372,102.604], [445751.0,245088.372,140.312], [445751.0,244970.0,138.984]))</td><td>a6a7e7ff-71d3-e455-0a2c5c6a</td><td>3544354345349395541</td><td>update</td><td>Named Extent+Group+None</td><td>Defined</td><td>3453654</td><td>Named Thoroughfare</td></tr><tr><td>Feature</td><td>LineString</td><td>List(List(446492.041, 245087.712, 102.616), List(446498.463, 245087.71, 103.178), List(446503.199, 245088.442, 103.205), List(446510.93, 245089.636, 102.862))</td><td>17e3f1c4-1802-4952-a826-ba148d063716</td><td>osgb5000005233652043</td><td>delete</td><td>Network+Line+None</td><td>Defined</td><td>34567535</td><td>Single Carriageway</td></tr></tbody></table></div>"
      ]
     },
     "metadata": {
      "application/vnd.databricks.v1+output": {
       "addedWidgets": {},
       "aggData": [],
       "aggError": "",
       "aggOverflow": false,
       "aggSchema": [],
       "aggSeriesLimitReached": false,
       "aggType": "",
       "arguments": {},
       "columnCustomDisplayInfos": {},
       "data": [
        [
         "Feature",
         "Polygon",
         [
          [
           "[445751.0,244970.0,138.984]",
           "[446492.041,244970.0,101.861]",
           "[446492.041,245088.372,102.604]",
           "[445751.0,245088.372,140.312]",
           "[445751.0,244970.0,138.984]"
          ]
         ],
         "a6a7e7ff-71d3-e455-0a2c5c6a",
         "3544354345349395541",
         "update",
         "Named Extent+Group+None",
         "Defined",
         3453654,
         "Named Thoroughfare"
        ],
        [
         "Feature",
         "LineString",
         [
          [
           "446492.041",
           "245087.712",
           "102.616"
          ],
          [
           "446498.463",
           "245087.71",
           "103.178"
          ],
          [
           "446503.199",
           "245088.442",
           "103.205"
          ],
          [
           "446510.93",
           "245089.636",
           "102.862"
          ]
         ],
         "17e3f1c4-1802-4952-a826-ba148d063716",
         "osgb5000005233652043",
         "delete",
         "Network+Line+None",
         "Defined",
         34567535,
         "Single Carriageway"
        ]
       ],
       "datasetInfos": [],
       "dbfsResultPath": null,
       "isJsonSchema": true,
       "metadata": {},
       "overflow": false,
       "plotOptions": {
        "customPlotOptions": {},
        "displayType": "table",
        "pivotAggregation": null,
        "pivotColumns": null,
        "xColumns": null,
        "yColumns": null
       },
       "removedWidgets": [],
       "schema": [
        {
         "metadata": "{}",
         "name": "feature_type",
         "type": "\"string\""
        },
        {
         "metadata": "{}",
         "name": "geometry_type",
         "type": "\"string\""
        },
        {
         "metadata": "{}",
         "name": "geometry_coordinates",
         "type": "{\"type\":\"array\",\"elementType\":{\"type\":\"array\",\"elementType\":\"string\",\"containsNull\":true},\"containsNull\":true}"
        },
        {
         "metadata": "{}",
         "name": "feature_id",
         "type": "\"string\""
        },
        {
         "metadata": "{}",
         "name": "toid",
         "type": "\"string\""
        },
        {
         "metadata": "{}",
         "name": "change_event_type",
         "type": "\"string\""
        },
        {
         "metadata": "{}",
         "name": "feature_group",
         "type": "\"string\""
        },
        {
         "metadata": "{}",
         "name": "lifecycle_status",
         "type": "\"string\""
        },
        {
         "metadata": "{}",
         "name": "job_reference",
         "type": "\"long\""
        },
        {
         "metadata": "{}",
         "name": "form_type",
         "type": "\"string\""
        }
       ],
       "type": "table"
      }
     },
     "output_type": "display_data"
    }
   ],
   "source": [
    "from pyspark.sql.functions import col\n",
    "\n",
    "df_features = df.select(explode(col(\"features\")).alias(\"feature\"))\n",
    "\n",
    "df_flattened = df_features.select(\n",
    "    col(\"feature.type\").alias(\"feature_type\"),\n",
    "    col(\"feature.geometry.type\").alias(\"geometry_type\"),\n",
    "    col(\"feature.geometry.coordinates\").alias(\"geometry_coordinates\"),\n",
    "    col(\"feature.properties.featureId\").alias(\"feature_id\"),\n",
    "    col(\"feature.properties.toid\").alias(\"toid\"),\n",
    "    col(\"feature.properties.changeEventType\").alias(\"change_event_type\"),\n",
    "    col(\"feature.properties.featureGroup\").alias(\"feature_group\"),\n",
    "    col(\"feature.properties.lifecycleStatusComponent.lifecycleStatus\").alias(\"lifecycle_status\"),\n",
    "    col(\"feature.properties.jobReference\").alias(\"job_reference\"),\n",
    "    col(\"feature.properties.baseFormComponent.form\").alias(\"form_type\")\n",
    ")\n",
    "\n",
    "display(df_flattened)"
   ]
  }
 ],
 "metadata": {
  "application/vnd.databricks.v1+notebook": {
   "computePreferences": null,
   "dashboards": [],
   "environmentMetadata": {
    "base_environment": "",
    "environment_version": "1"
   },
   "inputWidgetPreferences": null,
   "language": "python",
   "notebookMetadata": {
    "pythonIndentUnit": 4
   },
   "notebookName": "flatten json",
   "widgets": {}
  }
 },
 "nbformat": 4,
 "nbformat_minor": 0
}